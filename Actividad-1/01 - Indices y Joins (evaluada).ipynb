{
 "cells": [
  {
   "cell_type": "markdown",
   "metadata": {},
   "source": [
    "# Actividad Evaluada 1"
   ]
  },
  {
   "cell_type": "markdown",
   "metadata": {},
   "source": [
    "## Administrativos"
   ]
  },
  {
   "cell_type": "markdown",
   "metadata": {},
   "source": [
    "- El trabajo es individual. Puedes consultar y discutir con tus compañeras y compañeros, pero a la hora de escribir el código, no puedes compartirlo con nadie. Puedes usar recursos como internet y modelos de lenguaje, pero tienes que ser explícito en la cita o en el lugar donde los usaste.\n",
    "\n",
    "- La entrega es el viernes 21 de marzo a las 20:00 horas. El úncio archivo a entregar es una copia de tu notebook, que deberás subir en canvas antes de ese día/hora. \n",
    "\n",
    "- Si tienes dudas, aprovéchanos, vamos a estar en la sala para ayudar. Recuerda que el objetivo en estas actividades es aprender y evaluar al mismo tiempo, ¡está bien si no todo sale a la primera!."
   ]
  },
  {
   "cell_type": "markdown",
   "metadata": {},
   "source": [
    "## Enunciado"
   ]
  },
  {
   "cell_type": "markdown",
   "metadata": {},
   "source": [
    "### Datos\n",
    "\n",
    "Trabajaremos con: \n",
    "\n",
    "- Una tabla de `People(id, name, department)`, que almacena el identificador, nombre y el área de donde trabajan personas en una organización. \n",
    "- Una tabla de `Projects(id, name, month, year)`, con el id y el nombre de los proyectos en esa organización. Por simplicidad, vamos a guardar el momento de inicio de los proyectos basado en el mes y año en el que partieron como números enteros.\n",
    "- Una relación entre ambas entidades, llamada `People_Projects(person_id, project_id)` que relaciona las personas con los proyectos en que trabajan. Cabe destacar que la relación entre estas es de 1 a $n$: cada persona participa en a lo más un proyecto, y los proyectos pueden tener a muchas personas trabajando en ellos.\n",
    "\n",
    "Acá va un ejemplo de como se podrían ver los datos:"
   ]
  },
  {
   "cell_type": "code",
   "execution_count": 1,
   "metadata": {},
   "outputs": [],
   "source": [
    "people = [\n",
    "    (1, \"John Smith\", \"IT\"),\n",
    "    (5, \"Sarah Johnson\", \"Management\"),\n",
    "    (2, \"Michael Chen\", \"Management\"),\n",
    "    (3, \"Emma Wilson\", \"IT\"),\n",
    "    (10, \"David Rodriguez\", \"HR\"),\n",
    "    (4, \"Lisa Thompson\", \"Finance\"),\n",
    "    (6, \"Robert Kim\", \"Finance\"),\n",
    "    (15, \"Maria Garcia\", \"IT\"),\n",
    "    (7, \"James Anderson\", \"Management\"),\n",
    "    (22, \"Emily Brown\", \"Management\"),\n",
    "    (31, \"Thomas Lee\", \"IT\"),\n",
    "    (11, \"Ana Martinez\", \"HR\"),\n",
    "    (9, \"William Taylor\", \"Finance\"),\n",
    "    (33, \"Sophie Parker\", \"IT\"),\n",
    "]\n",
    "\n",
    "projects = [\n",
    "    (1, \"ERP Implementation\", 3, 2024),\n",
    "    (2, \"Cloud Migration\", 6, 2024),\n",
    "    (3, \"Mobile App Development\", 4, 2024),\n",
    "    (4, \"Cybersecurity Upgrade\", 8, 2023),\n",
    "    (5, \"Data Analytics Platform\", 11, 2023),\n",
    "    (6, \"Website Redesign\", 2, 2024),\n",
    "    (7, \"HR Digital Transformation\", 9, 2023),\n",
    "    (8, \"Customer Portal\", 5, 2024),\n",
    "    (9, \"AI Chatbot Integration\", 7, 2023),\n",
    "    (10, \"Infrastructure Modernization\", 12, 2023)\n",
    "]\n",
    "\n",
    "# Formato (person_id, project_id)\n",
    "people_projects = [\n",
    "    (1, 1), (2, 3), (10, 1), \n",
    "    (5, 2), (6, 2), (33, 2), \n",
    "    (15, 3), (3, 4), (31, 4), \n",
    "    (7, 5), (9, 5), (4, 6), \n",
    "    (11, 7), (22, 8)\n",
    "]"
   ]
  },
  {
   "cell_type": "code",
   "execution_count": null,
   "metadata": {},
   "outputs": [],
   "source": []
  },
  {
   "cell_type": "markdown",
   "metadata": {},
   "source": [
    "#### Manejo de datos \n",
    "\n",
    "Vamos a construir una clase `Table`, para acceder a los datos de arriba. El acceso es mediante un iterador, que implementa `iter()` y `next()`, y mediante `index_access(id_indice, element)`, que permite acceder a elementos como si fuera un hash-index.\n"
   ]
  },
  {
   "cell_type": "code",
   "execution_count": 2,
   "metadata": {},
   "outputs": [],
   "source": [
    "class Table:\n",
    "    def __init__(self, data):\n",
    "        self.data = data\n",
    "        self.indexes = []\n",
    "\n",
    "    def __iter__(self):\n",
    "        self.current_iter = 0\n",
    "        return self\n",
    "\n",
    "    def __next__(self):\n",
    "        if self.current_iter < len(self.data):\n",
    "            value = self.data[self.current_iter]\n",
    "            self.current_iter += 1\n",
    "            return value\n",
    "        else:\n",
    "            raise StopIteration\n",
    "\n",
    "    def create_primary_index(self, position):\n",
    "        index = {}\n",
    "        for tup in self.data:\n",
    "            index[tup[position]] = tup\n",
    "        self.indexes.append(index)\n",
    "        return len(self.indexes) - 1\n",
    "\n",
    "    def index_access(self, index_id, element):\n",
    "        return self.indexes[index_id][element]"
   ]
  },
  {
   "cell_type": "code",
   "execution_count": 3,
   "metadata": {},
   "outputs": [
    {
     "name": "stdout",
     "output_type": "stream",
     "text": [
      "(1, 'John Smith', 'IT')\n",
      "(5, 'Sarah Johnson', 'Management')\n",
      "(2, 'Michael Chen', 'Management')\n",
      "(3, 'Emma Wilson', 'IT')\n",
      "(10, 'David Rodriguez', 'HR')\n",
      "(4, 'Lisa Thompson', 'Finance')\n",
      "(6, 'Robert Kim', 'Finance')\n",
      "(15, 'Maria Garcia', 'IT')\n",
      "(7, 'James Anderson', 'Management')\n",
      "(22, 'Emily Brown', 'Management')\n",
      "(31, 'Thomas Lee', 'IT')\n",
      "(11, 'Ana Martinez', 'HR')\n",
      "(9, 'William Taylor', 'Finance')\n",
      "(33, 'Sophie Parker', 'IT')\n"
     ]
    }
   ],
   "source": [
    "## Ejemplo de como iterar una tabla\n",
    "\n",
    "table_people = Table(people)\n",
    "iterador = iter(table_people)\n",
    "for x in iterador:\n",
    "    print(x)"
   ]
  },
  {
   "cell_type": "code",
   "execution_count": 4,
   "metadata": {},
   "outputs": [
    {
     "data": {
      "text/plain": [
       "(3, 'Emma Wilson', 'IT')"
      ]
     },
     "execution_count": 4,
     "metadata": {},
     "output_type": "execute_result"
    }
   ],
   "source": [
    "## Crear un índice en el atributo id de People (posición 0)\n",
    "# Luego se usa para encontrar la tupla con id 3\n",
    "\n",
    "table_people.create_primary_index(0)\n",
    "table_people.index_access(0, 3)"
   ]
  },
  {
   "cell_type": "markdown",
   "metadata": {},
   "source": [
    "<img style=\"margin: 0 auto;display: block;\" src=\"https://i.ibb.co/yc6Y8JMP/A-adir-un-t-tulo.png\" alt=\"Portada\" border=\"0\"></a>"
   ]
  },
  {
   "cell_type": "markdown",
   "metadata": {},
   "source": [
    "### Parte 1 [0,5 pts] - Consultas con índices primarios\n",
    "\n",
    "1. Crea los índices necesarios para contestar la siguiente consulta en un tiempo acotado por la cantidad de personas en la base de datos, y detalla la estrategia para contestar esta consulta con los índices:\n",
    "\n",
    "```SQL\n",
    "SELECT People.name, Projects.name \n",
    "FROM People, Projects, People_Projects\n",
    "WHERE People.id = People_Projects.person_id \n",
    "  AND Projects.id = People_Projects.project_id\n",
    "```\n",
    "\n",
    "2. Ejecuta un script que conteste esta consulta, a partir de las instancias de clase `Table` que creaste, usando solamente el iterador y la función `index_access` provistas para esa tabla. Tu script debe usar adecuadamente los índices y tu estrategia sugerida en el punto anterior."
   ]
  },
  {
   "cell_type": "code",
   "execution_count": 5,
   "metadata": {},
   "outputs": [
    {
     "data": {
      "text/plain": [
       "0"
      ]
     },
     "execution_count": 5,
     "metadata": {},
     "output_type": "execute_result"
    }
   ],
   "source": [
    "### Parte 1.1\n",
    "\n",
    "# Se necesita crear una tabla de asociaciones entre personas y proyectos\n",
    "# Tiene el siguiente formato: (people_id, project_id) \n",
    "table_associations = Table(people_projects)\n",
    "\n",
    "# Crear tablas para los proyectos\n",
    "table_projects = Table(projects)\n",
    "\n",
    "# Creamos los índices en las tablas de personas y proyectos \n",
    "table_people.create_primary_index(0)\n",
    "table_projects.create_primary_index(0)\n"
   ]
  },
  {
   "cell_type": "code",
   "execution_count": 6,
   "metadata": {},
   "outputs": [
    {
     "name": "stdout",
     "output_type": "stream",
     "text": [
      "John Smith está trabajando en el(los) proyecto(s): ERP Implementation\n",
      "Michael Chen está trabajando en el(los) proyecto(s): Mobile App Development\n",
      "David Rodriguez está trabajando en el(los) proyecto(s): ERP Implementation\n",
      "Sarah Johnson está trabajando en el(los) proyecto(s): Cloud Migration\n",
      "Robert Kim está trabajando en el(los) proyecto(s): Cloud Migration\n",
      "Sophie Parker está trabajando en el(los) proyecto(s): Cloud Migration\n",
      "Maria Garcia está trabajando en el(los) proyecto(s): Mobile App Development\n",
      "Emma Wilson está trabajando en el(los) proyecto(s): Cybersecurity Upgrade\n",
      "Thomas Lee está trabajando en el(los) proyecto(s): Cybersecurity Upgrade\n",
      "James Anderson está trabajando en el(los) proyecto(s): Data Analytics Platform\n",
      "William Taylor está trabajando en el(los) proyecto(s): Data Analytics Platform\n",
      "Lisa Thompson está trabajando en el(los) proyecto(s): Website Redesign\n",
      "Ana Martinez está trabajando en el(los) proyecto(s): HR Digital Transformation\n",
      "Emily Brown está trabajando en el(los) proyecto(s): Customer Portal\n"
     ]
    }
   ],
   "source": [
    "proyectos_asociados = {}\n",
    "# 1. Iterar sobre la tabla de asociaciones\n",
    "for association in iter(table_associations):\n",
    "    # 2. Obtener el id de la persona y el id del proyecto\n",
    "    person_id, project_id = association\n",
    "    # 3. Usar el índice de la tabla de personas para obtener el nombre de la persona\n",
    "    person = table_people.index_access(0, person_id)\n",
    "    # 4. Usar el índice de la tabla de proyectos para obtener el nombre del proyecto\n",
    "    project = table_projects.index_access(0, project_id)\n",
    "    if person[1] not in proyectos_asociados:\n",
    "        proyectos_asociados[person[1]] = [project[1]]\n",
    "    else: \n",
    "        proyectos_asociados[person[1]].append(project[1])\n",
    "\n",
    "\n",
    "for person, actual_projects in proyectos_asociados.items():\n",
    "    print(f\"{person} está trabajando en el(los) proyecto(s): {', '.join(actual_projects)}\")\n"
   ]
  },
  {
   "cell_type": "markdown",
   "metadata": {},
   "source": [
    "**Parte 1.2 - Explicación**\n",
    "\n",
    "<p>Mi resolución hace lo siguiente: \n",
    "\n",
    "<ol>\n",
    "  <li> Recuperamos los id de las personas y proyecto</li>\n",
    "  <li> Creamos la tabla de asosiación (personas y proyectos)</li>\n",
    "  <li> Iteramos por la tabla de asociación, recuperamos los nombres y proyectos</li>\n",
    "  <li> Añadimos a un diccionario el nombre del la persona (key) y añadimos los proyectos correspondientes en una lista (value)</li>\n",
    "</ol>\n",
    "\n",
    "\n",
    "La complejidad de este proyecto será O(n), Donde n es la cantidad de asociasiones. \n",
    "</p>"
   ]
  },
  {
   "cell_type": "markdown",
   "metadata": {},
   "source": [
    "### Parte 2 [1 pto] - Índices secundarios\n",
    "\n",
    "Ahora quieres contestar de forma eficiente (es decir, en un tiempo acotado por la cantidad de personas en el área IT) la consulta:\n",
    "\n",
    "```SQL\n",
    "SELECT People.name, Projects.name \n",
    "FROM People, Projects, People_Projects\n",
    "WHERE People.id = People_Projects.person_id \n",
    "  AND Projects.id = People_Projects.project_id\n",
    "  AND People.department = 'IT'\n",
    "```\n",
    "\n",
    "1. Explica por qué con la estructura de índices de la clase Table no puedes responder esta consulta de forma eficiente.\n",
    "2. Escribe una función llamada `create_secondary_index` que reciba una columna `c`, y genere un diccionario donde la llave sean los elementos de esa columna, y el valor sea la lista de tuplas cuyo valor en la posición `c` corresponda a la llave.\n",
    "3. Ejecuta un script que conteste esta consulta, a partir de las instancias de clase Table que creaste, usando solamente el iterador y la función `index_access` provistas para esa tabla. Tu script debe usar adecuadamente los índices y tu estrategia sugerida en los puntos anteriores."
   ]
  },
  {
   "cell_type": "markdown",
   "metadata": {},
   "source": [
    "**Parte 2.1 - Explicación**\n",
    "\n",
    "<p> La clase de Table actual permite crear índices solo para una columna específica. Esto no permite hacer busquedas más complejas  que involucren múltiples columnas. Esto significaría que tendríamos que recuperar todas las columnas de la tabla para encontrar la materia. Falta soportes para relaciones entre tablas y presenta limitaciones al solo poder recuperar los índices de una columna. </p>"
   ]
  },
  {
   "cell_type": "code",
   "execution_count": 7,
   "metadata": {},
   "outputs": [],
   "source": [
    "# Parte 2.2 \n",
    "# Si prefieres, puedes volver a escribir el código asociado a la clase Table\n",
    "# En caso de que tengas que hacer modificaciones menores a otros métodos\n",
    "class Table_2:\n",
    "    def __init__(self, data):\n",
    "        self.data = data\n",
    "        self.indexes = []\n",
    "\n",
    "    def __iter__(self):\n",
    "        self.current_iter = 0\n",
    "        return self\n",
    "\n",
    "    def __next__(self):\n",
    "        if self.current_iter < len(self.data):\n",
    "            value = self.data[self.current_iter]\n",
    "            self.current_iter += 1\n",
    "            return value\n",
    "        else:\n",
    "            raise StopIteration\n",
    "\n",
    "    def create_primary_index(self, position):\n",
    "        index = {}\n",
    "        for tup in self.data:\n",
    "            index[tup[position]] = tup\n",
    "        self.indexes.append(index)\n",
    "        return len(self.indexes) - 1\n",
    "    \n",
    "    def create_secondary_index(self, col):\n",
    "        if not self.data or col < 0 or col >= len(self.data[0]):\n",
    "            raise IndexError(\"El índice de columna está fuera del rango de los datos.\")\n",
    "        index = {}\n",
    "        for tup in self.data:\n",
    "            key = tup[col]  \n",
    "            if key not in index:\n",
    "                index[key] = []  # Inicializar la lista si la clave no existe\n",
    "            else:\n",
    "                index[key].append(tup)  # Agregar la tupla a la lista correspondiente\n",
    "        return index\n",
    "\n",
    "    def index_access(self, index_id, element):\n",
    "        return self.indexes[index_id][element]\n",
    "    \n"
   ]
  },
  {
   "cell_type": "code",
   "execution_count": 8,
   "metadata": {},
   "outputs": [],
   "source": [
    "#Redefine la tabla para que apoye el nuevo método de índice secundario\n",
    "table_people_2 = Table_2(people)\n",
    "# Mantenemos los valores anteriores"
   ]
  },
  {
   "cell_type": "code",
   "execution_count": 9,
   "metadata": {},
   "outputs": [
    {
     "name": "stdout",
     "output_type": "stream",
     "text": [
      "Sophie Parker que pertenece al depertamento de IT está trabajando en el(los) proyecto(s): Cloud Migration\n",
      "Maria Garcia que pertenece al depertamento de IT está trabajando en el(los) proyecto(s): Mobile App Development\n",
      "Emma Wilson que pertenece al depertamento de IT está trabajando en el(los) proyecto(s): Cybersecurity Upgrade\n",
      "Thomas Lee que pertenece al depertamento de IT está trabajando en el(los) proyecto(s): Cybersecurity Upgrade\n"
     ]
    }
   ],
   "source": [
    "### Parte 2.3\n",
    "\n",
    "# Queremos recuperar solo los nombres y proyectos de las personas que pertenecen al departamento 'IT'\n",
    "\n",
    "# Creamos un índice secundario en la columna del departamento (posición 2)\n",
    "depto_members = table_people_2.create_secondary_index(2)['IT']\n",
    "# Creamos un índices primarios \n",
    "table_people_2.create_primary_index(0)\n",
    "table_projects.create_primary_index(0)\n",
    "\n",
    "IT_projects = {}\n",
    "\n",
    "for association in iter(table_associations):\n",
    "    \n",
    "    person_id, project_id = association\n",
    "    person = table_people_2.index_access(0, person_id)\n",
    "    \n",
    "    # Verificar si la persona pertenece al departamento 'IT'\n",
    "    if person in depto_members:\n",
    "        actual_project = table_projects.index_access(0, project_id)\n",
    "        if person[1] not in IT_projects:\n",
    "            IT_projects[person[1]] = [actual_project[1]]\n",
    "        else: \n",
    "            IT_projects[person[1]].append(actual_project[1])\n",
    "\n",
    "\n",
    "for person, it_projects in IT_projects.items():\n",
    "    print(f\"{person} que pertenece al depertamento de IT está trabajando en el(los) proyecto(s): {', '.join(it_projects)}\")"
   ]
  },
  {
   "cell_type": "markdown",
   "metadata": {},
   "source": [
    "### Parte 3 [1.5 pts] - Índices multicolumna\n",
    "\n",
    "Ahora quieres contestar de forma eficiente la consulta \n",
    "\n",
    "```SQL\n",
    "SELECT * \n",
    "FROM Projects\n",
    "WHERE Projects.month = 10 AND Projects.year = 2023\n",
    "```\n",
    "\n",
    "1. Explica por qué los índices que tienes ahora no te sirven para ejecutar esta consulta en una sola lectura.\n",
    "2. Implementa un sistema de índices multicolumna para contestar esta consulta y crea un script que muestre su uso. Puedes volver a reescribir toda la clase `Table` si quieres.\n",
    "\n"
   ]
  },
  {
   "cell_type": "markdown",
   "metadata": {},
   "source": [
    "**Parte 3.1 - Explicación**\n",
    "\n",
    "La clase solo crea indices primarios y secundarios que se mapean en diccionarios, esto no es suficiente para acceder columnas en solo una lectura. Si se crean múltiples índices (primarios y secundarios) para resolver la consulta definida puede llevar a múltiples lecturas en lugar de una sola."
   ]
  },
  {
   "cell_type": "code",
   "execution_count": 10,
   "metadata": {},
   "outputs": [],
   "source": [
    "# Parte 3.2\n",
    "# Escribe el código acá\n",
    "\n",
    "class Table_3:\n",
    "    def __init__(self, data):\n",
    "        self.data = data\n",
    "        self.indexes = []\n",
    "\n",
    "    def __iter__(self):\n",
    "        self.current_iter = 0\n",
    "        return self\n",
    "\n",
    "    def __next__(self):\n",
    "        if self.current_iter < len(self.data):\n",
    "            value = self.data[self.current_iter]\n",
    "            self.current_iter += 1\n",
    "            return value\n",
    "        else:\n",
    "            raise StopIteration\n",
    "\n",
    "    def create_primary_index(self, position):\n",
    "        index = {}\n",
    "        for tup in self.data:\n",
    "            index[tup[position]] = tup\n",
    "        self.indexes.append(index)\n",
    "        return len(self.indexes) - 1\n",
    "    \n",
    "    def create_multi_columns_index(self, cols):\n",
    "        if not self.data or any(col < 0 or col >= len(self.data[0]) for col in cols):\n",
    "            raise IndexError(\"El índice de columna está fuera del rango de los datos.\")\n",
    "        index = {}\n",
    "        for tup in self.data:\n",
    "            key = tuple(tup[col] for col in cols)\n",
    "            if key not in index:\n",
    "                index[key] = [tup]\n",
    "            else:\n",
    "                index[key].append(tup)\n",
    "        return index\n",
    "\n",
    "    def index_access(self, index_id, element):\n",
    "        return self.indexes[index_id][element]\n",
    "    \n"
   ]
  },
  {
   "cell_type": "code",
   "execution_count": 11,
   "metadata": {},
   "outputs": [],
   "source": [
    "#Redefine la tabla para que apoye el nuevo método de índice multi-columnas\n",
    "table_projects_3 = Table_3(projects)\n",
    "\n",
    "# Codigo probando el nuevo método de índice multi-columnas\n",
    "# multi_col_index = table_projects_3.create_multi_columns_index([1, 2])\n",
    "# multi_col_index"
   ]
  },
  {
   "cell_type": "code",
   "execution_count": 12,
   "metadata": {},
   "outputs": [
    {
     "name": "stdout",
     "output_type": "stream",
     "text": [
      "Se encontraron 0 coincidencias para el año 2023 y mes 10\n"
     ]
    }
   ],
   "source": [
    "# Queremos recuperar toda la información de los proyectos del año 2023 y del mes 10\n",
    "\n",
    "# Creamos un índice multi-columnas en la columna del año (posición 2) y mes (posición 3)\n",
    "coincidencias = 0\n",
    "\n",
    "columnas_recuperadas = table_projects_3.create_multi_columns_index([2, 3])\n",
    "\n",
    "for fecha, data in columnas_recuperadas.items():\n",
    "    if fecha[0] == 10 and fecha[1] == 2023:\n",
    "        for proyecto in data:\n",
    "            print(f\"El proyecto {proyecto[1]} fue realizado en el año {fecha[0]} y mes {fecha[1]}\")\n",
    "            coincidencias += 1\n",
    "print(f\"Se encontraron {coincidencias} coincidencias para el año 2023 y mes 10\")\n"
   ]
  },
  {
   "cell_type": "code",
   "execution_count": 13,
   "metadata": {},
   "outputs": [
    {
     "name": "stdout",
     "output_type": "stream",
     "text": [
      "El proyecto Project Alpha fue realizado en el año 10 y mes 2023\n",
      "El proyecto Project Gamma fue realizado en el año 10 y mes 2023\n",
      "El proyecto Project Delta fue realizado en el año 10 y mes 2023\n",
      "Se encontraron 3 coincidencias para el año 2023 y mes 10\n"
     ]
    }
   ],
   "source": [
    "# Como no hubo coincidencias, definiré una nueva variable que incluya el año 2023 y mes 10\n",
    "# Peticion a ChatGPT \"Crea 10 proyectos ficticios, has que 3 se hicieran el año 2023 y mes 10. \n",
    "# Sigue el siguiente formato: (ID, Nombre, mes, año). El ID debe ser un número aleatorio\"\n",
    "\n",
    "fake_proyects = [\n",
    "    (23, 'Project Alpha', 10, 2023),\n",
    "    (45, 'Project Beta', 9, 2023),\n",
    "    (12, 'Project Gamma', 10, 2023),\n",
    "    (67, 'Project Delta', 10, 2023),\n",
    "    (34, 'Project Epsilon', 11, 2023),\n",
    "    (89, 'Project Zeta', 8, 2022),\n",
    "    (56, 'Project Eta', 5, 2023),\n",
    "    (78, 'Project Theta', 10, 2022),\n",
    "    (90, 'Project Iota', 12, 2023),\n",
    "    (11, 'Project Kappa', 3, 2023),\n",
    "]\n",
    "\n",
    "added_projects = Table_3(fake_proyects)\n",
    "# Repetimos el proceso de creación de índice multi-columnas\n",
    "coincidencias = 0\n",
    "nuevas_columnas_recuperadas = added_projects.create_multi_columns_index([2, 3])\n",
    "\n",
    "for fecha, data in nuevas_columnas_recuperadas.items():\n",
    "    if fecha[0] == 10 and fecha[1] == 2023:\n",
    "        for proyecto in data:\n",
    "            print(f\"El proyecto {proyecto[1]} fue realizado en el año {fecha[0]} y mes {fecha[1]}\")\n",
    "            coincidencias += 1\n",
    "print(f\"Se encontraron {coincidencias} coincidencias para el año 2023 y mes 10\")"
   ]
  },
  {
   "cell_type": "markdown",
   "metadata": {},
   "source": [
    "Parte 4 [0.5 pts] - Agregación\n",
    "\n",
    "Ahora quieres hacer una consulta que te permita contar las personas por área de la empresa:\n",
    "\n",
    "```SQL\n",
    "SELECT People.department, COUNT(*)\n",
    "FROM People\n",
    "```\n",
    "\n",
    "1. Explica cómo puedes usar la estructura de índices actual para contestar esta consulta de forma eficiente.\n",
    "2. Crea un script que use la estructura de tablas e índices creada hasta ahora para contestar esta consulta acorde a la estrategia que describiste en el punto anterior."
   ]
  },
  {
   "cell_type": "markdown",
   "metadata": {},
   "source": [
    "**Parte 4.1 - Explicación**\n",
    "\n",
    "Previamente cree ```create_secondary_index``` en ```Tabla_2``` este me permitia recuperar la información basandome en un index que no fuera el principal. Puedo calcular cuantas personas hay por los index de las personas que pertenecen en el departamento. \n"
   ]
  },
  {
   "cell_type": "code",
   "execution_count": 14,
   "metadata": {},
   "outputs": [],
   "source": [
    "# Parte 4.2\n",
    "# Escribe el código acá\n",
    "\n",
    "# Nuevamente definimos la tabla para que apoye la Tabla 2\n",
    "\n",
    "people_table_2 = Table_2(people)\n",
    "\n",
    "# Usaremos create_secondary_index para crear un índice secundario en la columna del departamento (posición 2)\n",
    "depto_members = table_people_2.create_secondary_index(2)\n"
   ]
  },
  {
   "cell_type": "code",
   "execution_count": 15,
   "metadata": {},
   "outputs": [],
   "source": [
    "# Hare una función que reciba el diccionario de depto_members y retorne un diccionario con el número de personas por departamento\n",
    "# Me aseguraré que la función se asegure que no se repitan los ID de personas\n",
    "\n",
    "# y que cuente solo una vez a cada persona por departamento\n",
    "\n",
    "def contador_depto(depto_memebers):\n",
    "    depto_count = {}\n",
    "    for depto, members in depto_memebers.items():\n",
    "        # Usamos un set para evitar contar duplicados\n",
    "        unique_members = set(members)\n",
    "        depto_count[depto] = len(unique_members)\n",
    "    return depto_count"
   ]
  },
  {
   "cell_type": "code",
   "execution_count": 16,
   "metadata": {},
   "outputs": [
    {
     "name": "stdout",
     "output_type": "stream",
     "text": [
      "El departamento IT tiene 4 personas.\n",
      "El departamento Management tiene 3 personas.\n",
      "El departamento HR tiene 1 personas.\n",
      "El departamento Finance tiene 2 personas.\n"
     ]
    }
   ],
   "source": [
    "cantidad_depto = contador_depto(depto_members)\n",
    "\n",
    "for depto, cantidad in cantidad_depto.items():\n",
    "    print(f\"El departamento {depto} tiene {cantidad} personas.\")"
   ]
  },
  {
   "cell_type": "markdown",
   "metadata": {},
   "source": [
    "### Parte 5 [2 pts] - Joins en relaciones n:n \n",
    "\n",
    "Ahora imagina que la tabla `People_Projects` es $n$ a $n$: una persona puede participar en muchos proyectos y un proyecto puede tener muchas personas involucradas. \n",
    "\n",
    "Ahora te interesa hacer la consulta:\n",
    "\n",
    "```SQL\n",
    "SELECT People.name, Projects.name \n",
    "FROM People, Projects, People_Projects\n",
    "WHERE People.id = People_Projects.person_id \n",
    "  AND Projects.id = People_Projects.project_id\n",
    "  AND People.department = 'IT'\n",
    "```\n",
    "\n",
    "Y también te interesa hacer la consulta:\n",
    "\n",
    "```SQL\n",
    "SELECT People.name, Projects.name \n",
    "FROM People, Projects, People_Projects\n",
    "WHERE People.id = People_Projects.person_id \n",
    "  AND Projects.id = People_Projects.project_id\n",
    "  AND Projects.month = 10 \n",
    "  AND Projects.year = 2023\n",
    "```\n",
    "\n",
    "1. Explica cómo debes indexar las tablas para poder responder a ambas consultas de forma eficiente. ¿Te basta con un índice para la tabla `People_Projects` o necesitas más?\n",
    "2. Extiende la tabla `People_Projects` para que refleje este nuevo escenario. Luego crea los índices necesarios para responder la consulta.\n",
    "3. Crea un script para responder la primera consulta de join que mostramos en este apartado.\n",
    "4. Crea un script para responder la segunda consulta de join que te mostramos en este apartado."
   ]
  },
  {
   "cell_type": "markdown",
   "metadata": {},
   "source": [
    "**Parte 5.1 - Explicación**\n",
    "\n",
    "Para indexar las tablas people y projects hay que usar people_projects. No es suficiente con indexar un par de columnas a people_projects porque necesitamos: ```nombre_persona```, ```nombre_proyecto```, ```departamento```, ```mes_proyecto``` y ```proyecto_year```\n",
    "\n",
    "Sale más practico conectar todo a travez de un Join y eliminar los valores extra.  "
   ]
  },
  {
   "cell_type": "code",
   "execution_count": 17,
   "metadata": {},
   "outputs": [],
   "source": [
    "# Parte 5.2\n",
    "# Definimos Tabla_Definitiva que incluya la funciones de Table_2, Table_3 y creamos una función llamada join. \n",
    "\n",
    "class Table_Definitiva:\n",
    "    def __init__(self, data):\n",
    "        self.data = data\n",
    "        self.indexes = []\n",
    "\n",
    "    def __iter__(self):\n",
    "        self.current_iter = 0\n",
    "        return self\n",
    "\n",
    "    def __next__(self):\n",
    "        if self.current_iter < len(self.data):\n",
    "            value = self.data[self.current_iter]\n",
    "            self.current_iter += 1\n",
    "            return value\n",
    "        else:\n",
    "            raise StopIteration\n",
    "\n",
    "    def create_primary_index(self, position):\n",
    "        index = {}\n",
    "        for tup in self.data:\n",
    "            index[tup[position]] = tup\n",
    "        self.indexes.append(index)\n",
    "        return len(self.indexes) - 1\n",
    "    \n",
    "    def create_secondary_index(self, col):\n",
    "        if not self.data or col < 0 or col >= len(self.data[0]):\n",
    "            raise IndexError(\"El índice de columna está fuera del rango de los datos.\")\n",
    "        index = {}\n",
    "        for tup in self.data:\n",
    "            key = tup[col]  \n",
    "            if key not in index:\n",
    "                index[key] = []  # Inicializar la lista si la clave no existe\n",
    "            else:\n",
    "                index[key].append(tup)  # Agregar la tupla a la lista correspondiente\n",
    "        return index\n",
    "    \n",
    "    def create_multi_columns_index(self, cols):\n",
    "        if not self.data or any(col < 0 or col >= len(self.data[0]) for col in cols):\n",
    "            raise IndexError(\"El índice de columna está fuera del rango de los datos.\")\n",
    "        index = {}\n",
    "        for tup in self.data:\n",
    "            key = tuple(tup[col] for col in cols)\n",
    "            if key not in index:\n",
    "                index[key] = [tup]\n",
    "            else:\n",
    "                index[key].append(tup)\n",
    "        return index\n",
    "    \n",
    "    def index_access(self, index_id, element):\n",
    "        return self.indexes[index_id][element]\n",
    "    \n",
    "    def join(self, other_table, left_on, right_on):\n",
    "        joined_data = []\n",
    "        for row in self.data:\n",
    "            for other_row in other_table.data:\n",
    "                if row[left_on] == other_row[right_on]:\n",
    "                    joined_data.append(row + other_row)\n",
    "        return joined_data"
   ]
  },
  {
   "cell_type": "code",
   "execution_count": 18,
   "metadata": {},
   "outputs": [],
   "source": [
    "# Todas las tablas se redefiniran con instancias de Table_Definitiva\n",
    "people_table_def = Table_Definitiva(people)\n",
    "projects_table_def = Table_Definitiva(projects)\n",
    "associations_table_def = Table_Definitiva(people_projects)"
   ]
  },
  {
   "cell_type": "code",
   "execution_count": 19,
   "metadata": {},
   "outputs": [],
   "source": [
    "#Unimos las tablas de personas y asociaciones\n",
    "joined_data = people_table_def.join(associations_table_def, 0, 0)\n",
    "joined_table = Table_Definitiva(joined_data)\n",
    "\n",
    "# Unimos la tabla de unida previamente con la tabla de proyectos\n",
    "total_data = joined_table.join(projects_table_def, 4, 0)\n",
    "\n",
    "clean_data = []\n",
    "# Limpiamos los datos para evitar duplicados\n",
    "for value in total_data:\n",
    "    #Formato de cada tupla: (person_name, department, project_name, month, year)\n",
    "    clean_data.append((value[1], value[2], value[6], value[7], value[8]))\n",
    "\n",
    "total_table = Table_Definitiva(clean_data)"
   ]
  },
  {
   "cell_type": "code",
   "execution_count": 20,
   "metadata": {},
   "outputs": [],
   "source": [
    "# Creamos un índice secundario en la columna del departamento (posición 2)\n",
    "# Esto nos permitirá acceder a los miembros de cada departamento\n",
    "depto_members = total_table.create_secondary_index(1)"
   ]
  },
  {
   "cell_type": "code",
   "execution_count": 21,
   "metadata": {},
   "outputs": [
    {
     "name": "stdout",
     "output_type": "stream",
     "text": [
      "Emma Wilson está trabajando en el(los) proyecto(s): Cybersecurity Upgrade \n",
      "Maria Garcia está trabajando en el(los) proyecto(s): Mobile App Development \n",
      "Thomas Lee está trabajando en el(los) proyecto(s): Cybersecurity Upgrade \n",
      "Sophie Parker está trabajando en el(los) proyecto(s): Cloud Migration \n"
     ]
    }
   ],
   "source": [
    "# Parte 5.3\n",
    "# Para la primera Query queremos saber el nombre de las personas y los proyectos en los que están trabajando en el departamento de IT.\n",
    "it_members_projects = depto_members['IT']\n",
    "\n",
    "for person in it_members_projects:\n",
    "    print(f\"{person[0]} está trabajando en el(los) proyecto(s): {person[2]} \")"
   ]
  },
  {
   "cell_type": "code",
   "execution_count": 22,
   "metadata": {},
   "outputs": [
    {
     "name": "stdout",
     "output_type": "stream",
     "text": [
      "Se encontraron 0 coincidencias para el año 2023 y mes 10\n"
     ]
    }
   ],
   "source": [
    "# Parte 5.4\n",
    "# Para la segunda Query queremos saber el nombre de las personas y los proyectos que se hayan realizado en \n",
    "# el mes de octubre del año 2023.\n",
    "\n",
    "# Creamos un índice multi-columnas en la columna del año (posición 6) y mes (posición 5)\n",
    "octubre_2023_projects = total_table.create_multi_columns_index([3, 4])\n",
    "coincidencias = 0\n",
    "for fecha, data in octubre_2023_projects.items():\n",
    "    if fecha[0] == 10 and fecha[1] == 2023:\n",
    "        for proyecto in data:\n",
    "            print(f\"El proyecto {proyecto[2]}  por {proyecto[0]} fue realizado en el año {fecha[1]} y mes {fecha[0]}\")\n",
    "            coincidencias += 1\n",
    "\n",
    "print(f\"Se encontraron {coincidencias} coincidencias para el año 2023 y mes 10\")"
   ]
  },
  {
   "cell_type": "code",
   "execution_count": 23,
   "metadata": {},
   "outputs": [
    {
     "name": "stdout",
     "output_type": "stream",
     "text": [
      "El proyecto Desarrollo de Aplicación Móvil  por Alice Johnson fue realizado en el año 2023 y mes 10\n",
      "El proyecto Migración a la Nube  por Bob Smith fue realizado en el año 2023 y mes 10\n",
      "El proyecto Actualización de Servidores  por Fiona Gallagher fue realizado en el año 2023 y mes 10\n",
      "Se encontraron 3 coincidencias para el año 2023 y mes 10\n"
     ]
    }
   ],
   "source": [
    "# Como mencioné previamente, no hay proyectos en octubre del año 2023, por lo que no se encontraron coincidencias.\n",
    "# Definiré una nueva variable que incluya el año 2023 y mes 10\n",
    "# Peticion a ChatGPT \"Crea 10 proyectos ficticios, has que 3 se hicieran el año 2023 y mes 10. \n",
    "# Sigue el siguiente formato: (person_id, person_name, department, project_id, project_name, month, year). El ID debe ser un número aleatorio\"\n",
    "\n",
    "fake_proyectos = [\n",
    "    ('Alice Johnson', 'IT', 'Desarrollo de Aplicación Móvil', 10, 2023),\n",
    "    ('Bob Smith', 'IT', 'Migración a la Nube', 10, 2023),\n",
    "    ('Charlie Brown', 'Marketing', 'Campaña de Redes Sociales', 9, 2023),\n",
    "    ('Diana Prince', 'IT', 'Implementación de Seguridad', 11, 2023),\n",
    "    ('Ethan Hunt', 'Recursos Humanos', 'Reclutamiento de Talento', 12, 2023),\n",
    "    ('Fiona Gallagher', 'IT', 'Actualización de Servidores', 10, 2023),\n",
    "    ('George Clooney', 'Finanzas', 'Análisis de Costos', 8, 2023),\n",
    "    ('Hannah Montana', 'IT', 'Desarrollo de Software de Gestión', 7, 2023),\n",
    "    ('Ian Malcolm', 'Ciencia', 'Investigación de Mercado', 6, 2023),\n",
    "    ('Julia Roberts', 'Marketing', 'Lanzamiento de Producto', 5, 2023)\n",
    "]\n",
    "\n",
    "# Creamos la tabla total falsa con los nuevos proyectos\n",
    "fake_table_def = Table_Definitiva(fake_proyectos)\n",
    "\n",
    "# Hacemos el proceso nuevamente de la nueva Query\n",
    "fake_octubre_2023_projects = fake_table_def.create_multi_columns_index([3, 4])\n",
    "coincidencias = 0\n",
    "for fecha, data in fake_octubre_2023_projects.items():\n",
    "    if fecha[0] == 10 and fecha[1] == 2023:\n",
    "        for proyecto in data:\n",
    "            print(f\"El proyecto {proyecto[2]}  por {proyecto[0]} fue realizado en el año {fecha[1]} y mes {fecha[0]}\")\n",
    "            coincidencias += 1\n",
    "\n",
    "print(f\"Se encontraron {coincidencias} coincidencias para el año 2023 y mes 10\")"
   ]
  },
  {
   "cell_type": "markdown",
   "metadata": {},
   "source": [
    "### Parte 6 [0.5 pts] - ¿Por qué no indexamos todo?\n",
    "\n",
    "Hasta ahora hemos visto cómo los índices nos ayudan a contestar consultas más rápido, y por lo mismo, podríamos estar tentados a indexar todas las columnas de nuestra base de datos. Por lo mismo, ahora explica:\n",
    "\n",
    "1. Por qué no es buena indexar todas las columnas de la base de datos, o incluso hacer más índices de los necesarios.\n",
    "2. Qué es lo que tendrías en consideración al momento de escoger los índices que vas a crear en tu base de datos."
   ]
  },
  {
   "cell_type": "markdown",
   "metadata": {},
   "source": [
    "**Parte 6 - Respuesta**\n",
    "\n",
    "<p>\n",
    "\n",
    "<ol>\n",
    "  <li> Porque no hay que indexar más datos de los necesarios</li>\n",
    "\n",
    "  Porque si indexaramos todos los valores ocuparía demasiado espacio de almacenamiento. Conciderando que en el curso ocuparemos bases de datos masivas es mejor mantener bases más pequeñas.\n",
    "  Además, esto aumenta la complejidad de las Query realizadas, porque al administrar y mantener los datos hay que ir chequeando cuales son útiles o si hay datos repetidos.  Los datos de este estilo pueden entorpecer las respuestas del programa y dar respuestas suboptimas. \n",
    "  En resumen indexar datos demas podría ser contraproducente porque afecta en la administración de los datos y las respuestas ante Queries. Además de tener un límite de almacenamiento que no puede ser excedido. \n",
    "  \n",
    "  <li> Como elegir indices</li>\n",
    "\n",
    "  Para elegir buenos indices hay que considerar el tipo de consultas que se harán más comunes y óptimizar los indices para facilitar y óptimizar la respuesta de las Queries. \n",
    "  También hay que considerar cuales son los datos que son únicos (ID, RUT, ect.) y cuales se repiten y entregan poca información entre personas (genero, color de ojos, ect.) Porque tienen valores de mayor o menor importancia. \n",
    "  En resumen hay que balancear la consideración del tipo de datos y las consultas más frecuentes\n",
    "</ol>\n",
    "</p>"
   ]
  },
  {
   "cell_type": "markdown",
   "metadata": {},
   "source": [
    "**Referencias**\n",
    "\n",
    "Para resolver estos ejercicios me base principalmente en el código de ZachAstro llamado [table.py](https://gist.github.com/ZachAstro/5442714) que fui adaptando al código en cada pregunta. \n",
    "\n",
    "Me apoye de la inteligencia artificial [Blackbox](https://www.blackbox.ai/) para resolver errores y adaptar los códigos. También para hacer los dataset falsos en la pregunta 3 y 5. \n",
    "\n"
   ]
  }
 ],
 "metadata": {
  "kernelspec": {
   "display_name": "Python 3",
   "language": "python",
   "name": "python3"
  },
  "language_info": {
   "codemirror_mode": {
    "name": "ipython",
    "version": 3
   },
   "file_extension": ".py",
   "mimetype": "text/x-python",
   "name": "python",
   "nbconvert_exporter": "python",
   "pygments_lexer": "ipython3",
   "version": "3.12.1"
  }
 },
 "nbformat": 4,
 "nbformat_minor": 2
}
